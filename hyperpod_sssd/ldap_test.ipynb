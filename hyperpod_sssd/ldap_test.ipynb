{
 "cells": [
  {
   "cell_type": "code",
   "execution_count": 1,
   "metadata": {},
   "outputs": [],
   "source": [
    "import getpass"
   ]
  },
  {
   "cell_type": "code",
   "execution_count": 3,
   "metadata": {},
   "outputs": [],
   "source": [
    "if 1:\n",
    "    #host = \"ldap://cluster-test.amazonaws.com:389\"\n",
    "    host = \"ldap://cluster-test.amazonaws.com\"\n",
    "    #host = \"ldaps://cluster-test.amazonaws.com:636\"\n",
    "    #host = \"ldaps://cluster-test.amazonaws.com\"\n",
    "\n",
    "    username = \"cluster-test\\Admin\"\n",
    "    DCs = \"DC=cluster-test,DC=amazonaws,DC=com\"\n",
    "    OU = f\"OU=cluster-test,{DCs}\"\n",
    "    OU_Users = \"OU=Users,{OU}\"\n",
    "    CN_Admin = f\"CN=Admin,{OU_Users}\"\n"
   ]
  },
  {
   "cell_type": "code",
   "execution_count": 4,
   "metadata": {},
   "outputs": [],
   "source": [
    "admin_pw = getpass.getpass(\"AD Admin password\")"
   ]
  },
  {
   "cell_type": "markdown",
   "metadata": {},
   "source": [
    "#### Dump all"
   ]
  },
  {
   "cell_type": "code",
   "execution_count": 5,
   "metadata": {},
   "outputs": [],
   "source": [
    "!ldapsearch -x -H {host} -b {DCs} -s sub -D \"{username}\" -w \"{admin_pw}\" > dump.txt"
   ]
  },
  {
   "cell_type": "markdown",
   "metadata": {},
   "source": [
    "#### List all users"
   ]
  },
  {
   "cell_type": "code",
   "execution_count": null,
   "metadata": {},
   "outputs": [],
   "source": [
    "!ldapsearch -x -H {host} -b \"CN=Users,{DCs}\" -s sub -D \"{username}\" -w \"{admin_pw}\" cn\n"
   ]
  },
  {
   "cell_type": "markdown",
   "metadata": {},
   "source": [
    "#### Get specific user"
   ]
  },
  {
   "cell_type": "code",
   "execution_count": null,
   "metadata": {},
   "outputs": [],
   "source": [
    "!ldapsearch -x -H {host} -b \"CN=Users,{DCs}\" -s sub -D \"{username}\" -w \"{admin_pw}\" cn=\"Guest\""
   ]
  },
  {
   "cell_type": "markdown",
   "metadata": {},
   "source": [
    "#### Add an organization"
   ]
  },
  {
   "cell_type": "code",
   "execution_count": null,
   "metadata": {},
   "outputs": [],
   "source": [
    "%%file dev1_add.ldif\n",
    "\n",
    "# Organization \"dev1\"\n",
    "dn: OU=dev1,OU=cluster-test,DC=cluster-test,DC=amazonaws,DC=com\n",
    "objectClass: top\n",
    "objectClass: organizationalUnit\n",
    "ou: dev1\n",
    "description: This is Development team1\n"
   ]
  },
  {
   "cell_type": "code",
   "execution_count": null,
   "metadata": {},
   "outputs": [],
   "source": [
    "!ldapadd -x -H {host} -D {admin_dn} -w \"{admin_pw}\" -f ./dev1_add.ldif"
   ]
  },
  {
   "cell_type": "markdown",
   "metadata": {},
   "source": [
    "#### Modify the organization's description field"
   ]
  },
  {
   "cell_type": "code",
   "execution_count": null,
   "metadata": {},
   "outputs": [],
   "source": [
    "%%file dev1_modify.ldif\n",
    "dn: OU=dev1,OU=cluster-test,DC=cluster-test,DC=amazonaws,DC=com\n",
    "changetype: modify\n",
    "replace: description\n",
    "description: This is Development team1 (updated)\n"
   ]
  },
  {
   "cell_type": "code",
   "execution_count": null,
   "metadata": {},
   "outputs": [],
   "source": [
    "!ldapmodify -x -H {host} -D {admin_dn} -w \"{admin_pw}\" -f ./dev1_modify.ldif"
   ]
  },
  {
   "cell_type": "markdown",
   "metadata": {},
   "source": [
    "#### Add users under the organization"
   ]
  },
  {
   "cell_type": "code",
   "execution_count": null,
   "metadata": {},
   "outputs": [],
   "source": [
    "%%file users_add.ldif\n",
    "\n",
    "# User \"user1\"\n",
    "dn: CN=user1,OU=dev1,OU=cluster-test,DC=cluster-test,DC=amazonaws,DC=com\n",
    "objectClass: top\n",
    "objectClass: person\n",
    "objectClass: organizationalPerson\n",
    "objectClass: user\n",
    "cn: user1\n",
    "description: This is User1\n",
    "\n",
    "# User \"user2\"\n",
    "dn: CN=user2,OU=dev1,OU=cluster-test,DC=cluster-test,DC=amazonaws,DC=com\n",
    "objectClass: top\n",
    "objectClass: person\n",
    "objectClass: organizationalPerson\n",
    "objectClass: user\n",
    "cn: user2\n",
    "description: This is User2\n",
    "\n",
    "# User \"user3\"\n",
    "dn: CN=user3,OU=dev1,OU=cluster-test,DC=cluster-test,DC=amazonaws,DC=com\n",
    "objectClass: top\n",
    "objectClass: person\n",
    "objectClass: organizationalPerson\n",
    "objectClass: user\n",
    "cn: user3\n",
    "description: This is User3\n"
   ]
  },
  {
   "cell_type": "code",
   "execution_count": null,
   "metadata": {},
   "outputs": [],
   "source": [
    "!ldapadd -x -H {host} -D {admin_dn} -w \"{admin_pw}\" -f ./users_add.ldif"
   ]
  },
  {
   "cell_type": "markdown",
   "metadata": {},
   "source": [
    "#### List all users under the organization"
   ]
  },
  {
   "cell_type": "code",
   "execution_count": null,
   "metadata": {},
   "outputs": [],
   "source": [
    "!ldapsearch -x -H {host} -b \"OU=dev1,OU=cluster-test,DC=cluster-test,DC=amazonaws,DC=com\" -s sub -D \"{username}\" -w \"{admin_pw}\" objectClass=organizationalPerson name"
   ]
  },
  {
   "cell_type": "markdown",
   "metadata": {},
   "source": [
    "#### Delete the user"
   ]
  },
  {
   "cell_type": "code",
   "execution_count": null,
   "metadata": {},
   "outputs": [],
   "source": [
    "%%file users_delete.ldif\n",
    "CN=user1,OU=dev1,OU=cluster-test,DC=cluster-test,DC=amazonaws,DC=com\n",
    "CN=user2,OU=dev1,OU=cluster-test,DC=cluster-test,DC=amazonaws,DC=com\n",
    "CN=user3,OU=dev1,OU=cluster-test,DC=cluster-test,DC=amazonaws,DC=com"
   ]
  },
  {
   "cell_type": "code",
   "execution_count": null,
   "metadata": {},
   "outputs": [],
   "source": [
    "!ldapdelete -v -x -H {host} -D {admin_dn} -w \"{admin_pw}\" -f ./users_delete.ldif"
   ]
  },
  {
   "cell_type": "markdown",
   "metadata": {},
   "source": [
    "#### Delete the organization"
   ]
  },
  {
   "cell_type": "code",
   "execution_count": null,
   "metadata": {},
   "outputs": [],
   "source": [
    "%%file dev1_delete.ldif\n",
    "OU=dev1,OU=cluster-test,DC=cluster-test,DC=amazonaws,DC=com\n"
   ]
  },
  {
   "cell_type": "code",
   "execution_count": null,
   "metadata": {},
   "outputs": [],
   "source": [
    "!ldapdelete -v -x -H {host} -D {admin_dn} -w \"{admin_pw}\" -f ./dev1_delete.ldif"
   ]
  },
  {
   "cell_type": "code",
   "execution_count": null,
   "metadata": {},
   "outputs": [],
   "source": []
  }
 ],
 "metadata": {
  "kernelspec": {
   "display_name": "base",
   "language": "python",
   "name": "python3"
  },
  "language_info": {
   "codemirror_mode": {
    "name": "ipython",
    "version": 3
   },
   "file_extension": ".py",
   "mimetype": "text/x-python",
   "name": "python",
   "nbconvert_exporter": "python",
   "pygments_lexer": "ipython3",
   "version": "3.8.10"
  }
 },
 "nbformat": 4,
 "nbformat_minor": 2
}
