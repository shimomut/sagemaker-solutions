{
 "cells": [
  {
   "cell_type": "code",
   "execution_count": null,
   "metadata": {},
   "outputs": [],
   "source": [
    "# %pip install matplotlib pandas"
   ]
  },
  {
   "cell_type": "code",
   "execution_count": null,
   "metadata": {},
   "outputs": [],
   "source": [
    "import glob\n",
    "import matplotlib.pyplot as plt\n",
    "import pandas as pd"
   ]
  },
  {
   "cell_type": "code",
   "execution_count": null,
   "metadata": {},
   "outputs": [],
   "source": [
    "\n",
    "# Get the name of latest CSV file\n",
    "latest_csv_filename = sorted(glob.glob(\"./result-*.csv\"))[-1]\n",
    "\n",
    "csv_filenames = [ latest_csv_filename ]\n",
    "\n",
    "# csv_filenames = [\n",
    "#     \"./result-20250111-004248.csv\",\n",
    "#     \"./result-20250111-024434.csv\",\n",
    "#     \"./result-20250111-223819.csv\"\n",
    "# ]\n",
    "\n",
    "df_parts = []\n",
    "for csv_filename in csv_filenames:\n",
    "    df_parts.append( pd.read_csv(csv_filename) )\n",
    "\n",
    "df = pd.concat(df_parts)\n",
    "\n",
    "df"
   ]
  },
  {
   "cell_type": "code",
   "execution_count": null,
   "metadata": {},
   "outputs": [],
   "source": [
    "# Add integer version of transfer_size column\n",
    "def size_str_to_int(s):\n",
    "    if s.endswith(\"K\"):\n",
    "        i = int(s[:-1])\n",
    "    elif s.endswith(\"M\"):\n",
    "        i = int(s[:-1]) * 1024\n",
    "    elif s.endswith(\"G\"):\n",
    "        i = int(s[:-1]) * 1024 * 1024\n",
    "    elif s.endswith(\"T\"):\n",
    "        i = int(s[:-1]) * 1024 * 1024 * 1024\n",
    "    else:\n",
    "        assert False\n",
    "    return i\n",
    "\n",
    "df[\"transfer_size_int\"] = df[\"transfer_size\"].map(size_str_to_int)\n",
    "\n",
    "df.head()"
   ]
  },
  {
   "cell_type": "code",
   "execution_count": null,
   "metadata": {},
   "outputs": [],
   "source": [
    "df.dtypes"
   ]
  },
  {
   "cell_type": "code",
   "execution_count": null,
   "metadata": {},
   "outputs": [],
   "source": [
    "# Common functions for plot\n",
    "\n",
    "def format_num_processes(x, _):\n",
    "    return \"%d\" % (x)\n",
    "\n",
    "def format_filesize(x, _):\n",
    "    if x<0:\n",
    "        return str(x)\n",
    "    for x_unit in ['KB', 'MB', 'GB', 'TB']:\n",
    "        if x < 1024:\n",
    "            return \"%d%s\" % (x, x_unit)\n",
    "        x /= 1024.0\n",
    "\n",
    "def format_bandwidth(y, _):\n",
    "    return \"%dMB/s\" % (y)\n"
   ]
  },
  {
   "cell_type": "code",
   "execution_count": null,
   "metadata": {},
   "outputs": [],
   "source": [
    "# test-1: how performance changes by number of processes and access granularity\n",
    "\n",
    "xaxis_ticks = []\n",
    "for i in range(10):\n",
    "    xaxis_ticks.append( 1 * (2**i) )\n",
    "\n",
    "def plot_graph( title, condition, values ):\n",
    "\n",
    "    df2 = df[condition]\n",
    "    df3 = df2.pivot(index=\"num_processes\", columns=[\"filesystem_type\"], values=values)\n",
    "    if len(df3) == 0: return\n",
    "    ax = df3.plot(title=title, logx=True, figsize=(6, 4), rot=0)\n",
    "    ax.set_xlabel(\"num processes (log scale)\")\n",
    "    ax.xaxis.set_ticks(xaxis_ticks)\n",
    "    ax.xaxis.set_major_formatter(format_num_processes)\n",
    "    ax.yaxis.set_major_formatter(format_bandwidth)\n",
    "\n",
    "for transfer_size in [\"4K\", \"64K\", \"1M\", \"16M\", \"256M\"]:\n",
    "    plot_graph( f\"Read bandwidth {transfer_size}\", df[\"transfer_size\"]==transfer_size, [\"read_bw_mean\"] )\n",
    "    plot_graph( f\"Write bandwidth {transfer_size}\", df[\"transfer_size\"]==transfer_size, [\"write_bw_mean\"] )\n"
   ]
  },
  {
   "cell_type": "code",
   "execution_count": null,
   "metadata": {},
   "outputs": [],
   "source": []
  }
 ],
 "metadata": {
  "kernelspec": {
   "display_name": ".venv",
   "language": "python",
   "name": "python3"
  },
  "language_info": {
   "codemirror_mode": {
    "name": "ipython",
    "version": 3
   },
   "file_extension": ".py",
   "mimetype": "text/x-python",
   "name": "python",
   "nbconvert_exporter": "python",
   "pygments_lexer": "ipython3",
   "version": "3.9.19"
  }
 },
 "nbformat": 4,
 "nbformat_minor": 2
}
