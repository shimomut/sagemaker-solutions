{
 "cells": [
  {
   "cell_type": "code",
   "execution_count": null,
   "metadata": {},
   "outputs": [],
   "source": [
    "# %pip install matplotlib pandas"
   ]
  },
  {
   "cell_type": "code",
   "execution_count": null,
   "metadata": {},
   "outputs": [],
   "source": [
    "import glob\n",
    "import matplotlib.pyplot as plt\n",
    "import pandas as pd"
   ]
  },
  {
   "cell_type": "code",
   "execution_count": null,
   "metadata": {},
   "outputs": [],
   "source": [
    "# Get the name of latest CSV file\n",
    "#csv_filename = sorted(glob.glob(\"./result-*.csv\"))[-1]\n",
    "\n",
    "\n",
    "# Use fixed CSV filename\n",
    "#csv_filename = \"./result-20241121-001238.csv\"\n",
    "csv_filename = \"./result-20241121-161421.csv\"\n",
    "\n",
    "\n",
    "print(csv_filename)"
   ]
  },
  {
   "cell_type": "code",
   "execution_count": null,
   "metadata": {},
   "outputs": [],
   "source": [
    "\n",
    "df = pd.read_csv(csv_filename)\n",
    "df.head(10)"
   ]
  },
  {
   "cell_type": "code",
   "execution_count": null,
   "metadata": {},
   "outputs": [],
   "source": [
    "# Add integer version of transfer_size column\n",
    "def size_str_to_int(s):\n",
    "    if s.endswith(\"K\"):\n",
    "        i = int(s[:-1])\n",
    "    elif s.endswith(\"M\"):\n",
    "        i = int(s[:-1]) * 1024\n",
    "    elif s.endswith(\"G\"):\n",
    "        i = int(s[:-1]) * 1024 * 1024\n",
    "    elif s.endswith(\"T\"):\n",
    "        i = int(s[:-1]) * 1024 * 1024 * 1024\n",
    "    else:\n",
    "        assert False\n",
    "    return i\n",
    "\n",
    "df[\"transfer_size_int\"] = df[\"transfer_size\"].map(size_str_to_int)\n",
    "\n",
    "df.head()"
   ]
  },
  {
   "cell_type": "code",
   "execution_count": null,
   "metadata": {},
   "outputs": [],
   "source": [
    "df.dtypes"
   ]
  },
  {
   "cell_type": "code",
   "execution_count": null,
   "metadata": {},
   "outputs": [],
   "source": [
    "# Common functions for plot\n",
    "\n",
    "def format_num_processes(x, _):\n",
    "    return \"%d\" % (x)\n",
    "\n",
    "def format_filesize(x, _):\n",
    "    if x<0:\n",
    "        return str(x)\n",
    "    for x_unit in ['KB', 'MB', 'GB', 'TB']:\n",
    "        if x < 1024:\n",
    "            return \"%d%s\" % (x, x_unit)\n",
    "        x /= 1024.0\n",
    "\n",
    "def format_bandwidth(y, _):\n",
    "    return \"%dMB/s\" % (y)\n"
   ]
  },
  {
   "cell_type": "code",
   "execution_count": null,
   "metadata": {},
   "outputs": [],
   "source": [
    "# test-1: granularity x 3 variations, number of processes x 9 variations\n",
    "\n",
    "xaxis_ticks = []\n",
    "for i in range(9):\n",
    "    xaxis_ticks.append( 1 * (2**i) )\n",
    "\n",
    "def plot_graph( title, condition, values ):\n",
    "\n",
    "    df2 = df[condition]\n",
    "    df3 = df2.pivot(index=\"num_processes\", columns=[\"filesystem_type\"], values=values)\n",
    "    ax = df3.plot(title=title, logx=True, figsize=(6, 4), rot=0)\n",
    "    ax.set_xlabel(\"num processes (log scale)\")\n",
    "    ax.xaxis.set_ticks(xaxis_ticks)\n",
    "    ax.xaxis.set_major_formatter(format_num_processes)\n",
    "    ax.yaxis.set_major_formatter(format_bandwidth)\n",
    "\n",
    "if 0:\n",
    "    plot_graph( \"Read bandwidth 4K\", df[\"transfer_size\"]==\"4K\", [\"read_bw_mean\"] )\n",
    "    plot_graph( \"Write bandwidth 4K\", df[\"transfer_size\"]==\"4K\", [\"write_bw_mean\"] )\n",
    "\n",
    "    plot_graph( \"Read bandwidth 1M\", df[\"transfer_size\"]==\"1M\", [\"read_bw_mean\"] )\n",
    "    plot_graph( \"Write bandwidth 1M\", df[\"transfer_size\"]==\"1M\", [\"write_bw_mean\"] )\n",
    "\n",
    "    plot_graph( \"Read bandwidth 256M\", df[\"transfer_size\"]==\"256M\", [\"read_bw_mean\"] )\n",
    "    plot_graph( \"Write bandwidth 256M\", df[\"transfer_size\"]==\"256M\", [\"write_bw_mean\"] )"
   ]
  },
  {
   "cell_type": "code",
   "execution_count": null,
   "metadata": {},
   "outputs": [],
   "source": [
    "# test-2: number of processes = 32, granularity x 17, variations\n",
    "\n",
    "xaxis_ticks = []\n",
    "for i in range(16):\n",
    "    xaxis_ticks.append( 4 * (2**i) )\n",
    "\n",
    "def plot_graph( title, condition, values ):\n",
    "\n",
    "    df2 = df[condition]\n",
    "    df3 = df2.pivot(index=\"transfer_size_int\", columns=[\"filesystem_type\"], values=values)\n",
    "    ax = df3.plot(title=title, logx=True, figsize=(6, 4), rot=-45)\n",
    "    ax.xaxis.set_ticks(xaxis_ticks)\n",
    "    ax.xaxis.set_major_formatter(format_filesize)\n",
    "    ax.yaxis.set_major_formatter(format_bandwidth)\n",
    "\n",
    "plot_graph( \"Read bandwidth 8 processes\", df[\"num_processes\"]==8, [\"read_bw_mean\"] )\n",
    "plot_graph( \"Write bandwidth 8 processes\", df[\"num_processes\"]==8, [\"write_bw_mean\"] )\n",
    "\n",
    "plot_graph( \"Read bandwidth 32 processes\", df[\"num_processes\"]==32, [\"read_bw_mean\"] )\n",
    "plot_graph( \"Write bandwidth 32 processes\", df[\"num_processes\"]==32, [\"write_bw_mean\"] )\n",
    "\n",
    "plot_graph( \"Read bandwidth 128 processes\", df[\"num_processes\"]==128, [\"read_bw_mean\"] )\n",
    "plot_graph( \"Write bandwidth 128 processes\", df[\"num_processes\"]==128, [\"write_bw_mean\"] )\n"
   ]
  },
  {
   "cell_type": "code",
   "execution_count": null,
   "metadata": {},
   "outputs": [],
   "source": []
  }
 ],
 "metadata": {
  "kernelspec": {
   "display_name": ".venv",
   "language": "python",
   "name": "python3"
  },
  "language_info": {
   "codemirror_mode": {
    "name": "ipython",
    "version": 3
   },
   "file_extension": ".py",
   "mimetype": "text/x-python",
   "name": "python",
   "nbconvert_exporter": "python",
   "pygments_lexer": "ipython3",
   "version": "3.9.19"
  }
 },
 "nbformat": 4,
 "nbformat_minor": 2
}
