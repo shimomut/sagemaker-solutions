{
 "cells": [
  {
   "cell_type": "code",
   "execution_count": null,
   "metadata": {},
   "outputs": [],
   "source": [
    "%pip install matplotlib pandas"
   ]
  },
  {
   "cell_type": "code",
   "execution_count": null,
   "metadata": {},
   "outputs": [],
   "source": [
    "import glob\n",
    "import matplotlib.pyplot as plt\n",
    "import pandas as pd"
   ]
  },
  {
   "cell_type": "code",
   "execution_count": null,
   "metadata": {},
   "outputs": [],
   "source": [
    "csv_filename = sorted(glob.glob(\"./result-*.csv\"))[-1]\n",
    "\n",
    "df = pd.read_csv(csv_filename)\n",
    "df.head(10)"
   ]
  },
  {
   "cell_type": "code",
   "execution_count": null,
   "metadata": {},
   "outputs": [],
   "source": [
    "df.dtypes"
   ]
  },
  {
   "cell_type": "code",
   "execution_count": null,
   "metadata": {},
   "outputs": [],
   "source": [
    "def plot_graph( title, condition, values ):\n",
    "\n",
    "    df2 = df[condition]\n",
    "    df3 = df2.pivot(index=\"num_processes\", columns=[\"filesystem_type\"], values=values)\n",
    "    df3.plot(title=title)\n"
   ]
  },
  {
   "cell_type": "code",
   "execution_count": null,
   "metadata": {},
   "outputs": [],
   "source": [
    "plot_graph( \"Read 4K\", df[\"transfer_size\"]==\"4K\", [\"read_bw_mean\"] )\n",
    "plot_graph( \"Write 4K\", df[\"transfer_size\"]==\"4K\", [\"write_bw_mean\"] )\n",
    "\n",
    "plot_graph( \"Read 1M\", df[\"transfer_size\"]==\"1M\", [\"read_bw_mean\"] )\n",
    "plot_graph( \"Write 1M\", df[\"transfer_size\"]==\"1M\", [\"write_bw_mean\"] )\n",
    "\n",
    "plot_graph( \"Read 256M\", df[\"transfer_size\"]==\"256M\", [\"read_bw_mean\"] )\n",
    "plot_graph( \"Write 256M\", df[\"transfer_size\"]==\"256M\", [\"write_bw_mean\"] )"
   ]
  },
  {
   "cell_type": "code",
   "execution_count": null,
   "metadata": {},
   "outputs": [],
   "source": []
  }
 ],
 "metadata": {
  "kernelspec": {
   "display_name": ".venv",
   "language": "python",
   "name": "python3"
  },
  "language_info": {
   "codemirror_mode": {
    "name": "ipython",
    "version": 3
   },
   "file_extension": ".py",
   "mimetype": "text/x-python",
   "name": "python",
   "nbconvert_exporter": "python",
   "pygments_lexer": "ipython3",
   "version": "3.9.19"
  }
 },
 "nbformat": 4,
 "nbformat_minor": 2
}
